{
 "cells": [
  {
   "cell_type": "code",
   "execution_count": 1,
   "metadata": {
    "collapsed": false
   },
   "outputs": [
    {
     "name": "stdout",
     "output_type": "stream",
     "text": [
      "Limit: 15\n",
      "Remaining: 14\n",
      "Reset: 1457045538\n",
      "Response: [{\"name\":\"New York\",\"placeType\":{\"code\":7,\"name\":\"Town\"},\"url\":\"http:\\/\\/where.yahooapis.com\\/v1\\/place\\/2459115\",\"parentid\":23424977,\"country\":\"United States\",\"woeid\":2459115,\"countryCode\":\"US\"}]\n"
     ]
    }
   ],
   "source": [
    "from temboo.Library.Twitter.Trends import Closest\n",
    "from temboo.core.session import TembooSession\n",
    "\n",
    "# Create a session with your Temboo account details\n",
    "session = TembooSession(\"andreachcode\", \"myFirstApp\", \"tiqt6HqSgt5SN9QsPIE9T6ATQkrNu2jo\")\n",
    "\n",
    "# Instantiate the Choreo\n",
    "closestChoreo = Closest(session)\n",
    "\n",
    "# Get an InputSet object for the Choreo\n",
    "closestInputs = closestChoreo.new_input_set()\n",
    "\n",
    "# Set the Choreo inputs\n",
    "closestInputs.set_AccessToken(\"1149515354-E1ERXrHTnBohJdDhdVyGwVgNRLPKUZTrEW6WfaF\")\n",
    "closestInputs.set_ConsumerKey(\"WbWdJS6NKlW8gtYaxnreIKMig\")\n",
    "closestInputs.set_ConsumerSecret(\"R0T9unRcsDDv1Tot2aY6JqcXjWVpKrHxDtg5Z8RsYUZeVLsjun\")\n",
    "closestInputs.set_AccessTokenSecret(\"57gJuU81rAMYfmnU2ut8ssHKnAbUbL5j6DK5shR5a1dHL\")\n",
    "closestInputs.set_Latitude(\"40.752439\")\n",
    "closestInputs.set_Longitude(\"-73.999911\")\n",
    "\n",
    "# Execute the Choreo\n",
    "closestResults = closestChoreo.execute_with_results(closestInputs)\n",
    "\n",
    "# Print the Choreo outputs\n",
    "print(\"Limit: \" + closestResults.get_Limit())\n",
    "print(\"Remaining: \" + closestResults.get_Remaining())\n",
    "print(\"Reset: \" + closestResults.get_Reset())\n",
    "print(\"Response: \" + closestResults.get_Response())"
   ]
  },
  {
   "cell_type": "code",
   "execution_count": null,
   "metadata": {
    "collapsed": true
   },
   "outputs": [],
   "source": []
  }
 ],
 "metadata": {
  "kernelspec": {
   "display_name": "Python 3",
   "language": "python",
   "name": "python3"
  },
  "language_info": {
   "codemirror_mode": {
    "name": "ipython",
    "version": 3
   },
   "file_extension": ".py",
   "mimetype": "text/x-python",
   "name": "python",
   "nbconvert_exporter": "python",
   "pygments_lexer": "ipython3",
   "version": "3.5.1"
  }
 },
 "nbformat": 4,
 "nbformat_minor": 0
}
