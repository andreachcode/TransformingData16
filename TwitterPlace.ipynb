{
 "cells": [
  {
   "cell_type": "code",
   "execution_count": 1,
   "metadata": {
    "collapsed": false
   },
   "outputs": [
    {
     "name": "stdout",
     "output_type": "stream",
     "text": [
      "Response: [{\"trends\":[{\"name\":\"#GIFparty\",\"url\":\"http:\\/\\/twitter.com\\/search?q=%23GIFparty\",\"promoted_content\":null,\"query\":\"%23GIFparty\",\"tweet_volume\":361504},{\"name\":\"#NintendoDirect\",\"url\":\"http:\\/\\/twitter.com\\/search?q=%23NintendoDirect\",\"promoted_content\":null,\"query\":\"%23NintendoDirect\",\"tweet_volume\":31451},{\"name\":\"Mitt Romney\",\"url\":\"http:\\/\\/twitter.com\\/search?q=%22Mitt+Romney%22\",\"promoted_content\":null,\"query\":\"%22Mitt+Romney%22\",\"tweet_volume\":316389},{\"name\":\"#WorldBookDay\",\"url\":\"http:\\/\\/twitter.com\\/search?q=%23WorldBookDay\",\"promoted_content\":null,\"query\":\"%23WorldBookDay\",\"tweet_volume\":345194},{\"name\":\"#FurnitureASong\",\"url\":\"http:\\/\\/twitter.com\\/search?q=%23FurnitureASong\",\"promoted_content\":null,\"query\":\"%23FurnitureASong\",\"tweet_volume\":null},{\"name\":\"Paper Mario\",\"url\":\"http:\\/\\/twitter.com\\/search?q=%22Paper+Mario%22\",\"promoted_content\":null,\"query\":\"%22Paper+Mario%22\",\"tweet_volume\":null},{\"name\":\"#HAM16\",\"url\":\"http:\\/\\/twitter.com\\/search?q=%23HAM16\",\"promoted_content\":null,\"query\":\"%23HAM16\",\"tweet_volume\":null},{\"name\":\"Federation Force\",\"url\":\"http:\\/\\/twitter.com\\/search?q=%22Federation+Force%22\",\"promoted_content\":null,\"query\":\"%22Federation+Force%22\",\"tweet_volume\":null},{\"name\":\"New 3DS\",\"url\":\"http:\\/\\/twitter.com\\/search?q=%22New+3DS%22\",\"promoted_content\":null,\"query\":\"%22New+3DS%22\",\"tweet_volume\":null},{\"name\":\"Tokyo Mirage Sessions\",\"url\":\"http:\\/\\/twitter.com\\/search?q=%22Tokyo+Mirage+Sessions%22\",\"promoted_content\":null,\"query\":\"%22Tokyo+Mirage+Sessions%22\",\"tweet_volume\":null},{\"name\":\"Monster Hunter\",\"url\":\"http:\\/\\/twitter.com\\/search?q=%22Monster+Hunter%22\",\"promoted_content\":null,\"query\":\"%22Monster+Hunter%22\",\"tweet_volume\":null},{\"name\":\"Marvin Harrison\",\"url\":\"http:\\/\\/twitter.com\\/search?q=%22Marvin+Harrison%22\",\"promoted_content\":null,\"query\":\"%22Marvin+Harrison%22\",\"tweet_volume\":null},{\"name\":\"Rhythm Heaven\",\"url\":\"http:\\/\\/twitter.com\\/search?q=%22Rhythm+Heaven%22\",\"promoted_content\":null,\"query\":\"%22Rhythm+Heaven%22\",\"tweet_volume\":null},{\"name\":\"Star Fox\",\"url\":\"http:\\/\\/twitter.com\\/search?q=%22Star+Fox%22\",\"promoted_content\":null,\"query\":\"%22Star+Fox%22\",\"tweet_volume\":null},{\"name\":\"Bravely Second\",\"url\":\"http:\\/\\/twitter.com\\/search?q=%22Bravely+Second%22\",\"promoted_content\":null,\"query\":\"%22Bravely+Second%22\",\"tweet_volume\":null},{\"name\":\"Freestyle 4\",\"url\":\"http:\\/\\/twitter.com\\/search?q=%22Freestyle+4%22\",\"promoted_content\":null,\"query\":\"%22Freestyle+4%22\",\"tweet_volume\":21218},{\"name\":\"Caitlyn Jenner\",\"url\":\"http:\\/\\/twitter.com\\/search?q=%22Caitlyn+Jenner%22\",\"promoted_content\":null,\"query\":\"%22Caitlyn+Jenner%22\",\"tweet_volume\":10646},{\"name\":\"Pocket Card Jockey\",\"url\":\"http:\\/\\/twitter.com\\/search?q=%22Pocket+Card+Jockey%22\",\"promoted_content\":null,\"query\":\"%22Pocket+Card+Jockey%22\",\"tweet_volume\":null},{\"name\":\"Rayo\",\"url\":\"http:\\/\\/twitter.com\\/search?q=Rayo\",\"promoted_content\":null,\"query\":\"Rayo\",\"tweet_volume\":99031},{\"name\":\"Hank 1\",\"url\":\"http:\\/\\/twitter.com\\/search?q=%22Hank+1%22\",\"promoted_content\":null,\"query\":\"%22Hank+1%22\",\"tweet_volume\":null},{\"name\":\"Earthbound\",\"url\":\"http:\\/\\/twitter.com\\/search?q=Earthbound\",\"promoted_content\":null,\"query\":\"Earthbound\",\"tweet_volume\":null},{\"name\":\"Gunvolt 2\",\"url\":\"http:\\/\\/twitter.com\\/search?q=%22Gunvolt+2%22\",\"promoted_content\":null,\"query\":\"%22Gunvolt+2%22\",\"tweet_volume\":null},{\"name\":\"Never Be Like You\",\"url\":\"http:\\/\\/twitter.com\\/search?q=%22Never+Be+Like+You%22\",\"promoted_content\":null,\"query\":\"%22Never+Be+Like+You%22\",\"tweet_volume\":null},{\"name\":\"Arda\",\"url\":\"http:\\/\\/twitter.com\\/search?q=Arda\",\"promoted_content\":null,\"query\":\"Arda\",\"tweet_volume\":45490},{\"name\":\"No Man's Sky\",\"url\":\"http:\\/\\/twitter.com\\/search?q=%22No+Man%27s+Sky%22\",\"promoted_content\":null,\"query\":\"%22No+Man%27s+Sky%22\",\"tweet_volume\":25387},{\"name\":\"#Ghostbusters\",\"url\":\"http:\\/\\/twitter.com\\/search?q=%23Ghostbusters\",\"promoted_content\":null,\"query\":\"%23Ghostbusters\",\"tweet_volume\":79025},{\"name\":\"#ItsOnlyMarchAndAlready\",\"url\":\"http:\\/\\/twitter.com\\/search?q=%23ItsOnlyMarchAndAlready\",\"promoted_content\":null,\"query\":\"%23ItsOnlyMarchAndAlready\",\"tweet_volume\":null},{\"name\":\"#CPAC2016\",\"url\":\"http:\\/\\/twitter.com\\/search?q=%23CPAC2016\",\"promoted_content\":null,\"query\":\"%23CPAC2016\",\"tweet_volume\":21955},{\"name\":\"#PUTITONMEMUSICVIDEO\",\"url\":\"http:\\/\\/twitter.com\\/search?q=%23PUTITONMEMUSICVIDEO\",\"promoted_content\":null,\"query\":\"%23PUTITONMEMUSICVIDEO\",\"tweet_volume\":48194},{\"name\":\"#frankmittens\",\"url\":\"http:\\/\\/twitter.com\\/search?q=%23frankmittens\",\"promoted_content\":null,\"query\":\"%23frankmittens\",\"tweet_volume\":null},{\"name\":\"#GoT50\",\"url\":\"http:\\/\\/twitter.com\\/search?q=%23GoT50\",\"promoted_content\":null,\"query\":\"%23GoT50\",\"tweet_volume\":13124},{\"name\":\"#MotherEarthsLastWords\",\"url\":\"http:\\/\\/twitter.com\\/search?q=%23MotherEarthsLastWords\",\"promoted_content\":null,\"query\":\"%23MotherEarthsLastWords\",\"tweet_volume\":null},{\"name\":\"#DeflateGate\",\"url\":\"http:\\/\\/twitter.com\\/search?q=%23DeflateGate\",\"promoted_content\":null,\"query\":\"%23DeflateGate\",\"tweet_volume\":null},{\"name\":\"#Q100TroyeAndChill\",\"url\":\"http:\\/\\/twitter.com\\/search?q=%23Q100TroyeAndChill\",\"promoted_content\":null,\"query\":\"%23Q100TroyeAndChill\",\"tweet_volume\":null},{\"name\":\"#ThirstyThursday\",\"url\":\"http:\\/\\/twitter.com\\/search?q=%23ThirstyThursday\",\"promoted_content\":null,\"query\":\"%23ThirstyThursday\",\"tweet_volume\":null},{\"name\":\"#BertaCaceres\",\"url\":\"http:\\/\\/twitter.com\\/search?q=%23BertaCaceres\",\"promoted_content\":null,\"query\":\"%23BertaCaceres\",\"tweet_volume\":10319},{\"name\":\"#FOGM16\",\"url\":\"http:\\/\\/twitter.com\\/search?q=%23FOGM16\",\"promoted_content\":null,\"query\":\"%23FOGM16\",\"tweet_volume\":null},{\"name\":\"#askjack\",\"url\":\"http:\\/\\/twitter.com\\/search?q=%23askjack\",\"promoted_content\":null,\"query\":\"%23askjack\",\"tweet_volume\":10201},{\"name\":\"#MLTalks\",\"url\":\"http:\\/\\/twitter.com\\/search?q=%23MLTalks\",\"promoted_content\":null,\"query\":\"%23MLTalks\",\"tweet_volume\":null},{\"name\":\"#WeWereThere\",\"url\":\"http:\\/\\/twitter.com\\/search?q=%23WeWereThere\",\"promoted_content\":null,\"query\":\"%23WeWereThere\",\"tweet_volume\":null},{\"name\":\"#msdlecture\",\"url\":\"http:\\/\\/twitter.com\\/search?q=%23msdlecture\",\"promoted_content\":null,\"query\":\"%23msdlecture\",\"tweet_volume\":null},{\"name\":\"#HardwoodClassic\",\"url\":\"http:\\/\\/twitter.com\\/search?q=%23HardwoodClassic\",\"promoted_content\":null,\"query\":\"%23HardwoodClassic\",\"tweet_volume\":null},{\"name\":\"#FrasesSabias\",\"url\":\"http:\\/\\/twitter.com\\/search?q=%23FrasesSabias\",\"promoted_content\":null,\"query\":\"%23FrasesSabias\",\"tweet_volume\":45241},{\"name\":\"#WeAllGrow\",\"url\":\"http:\\/\\/twitter.com\\/search?q=%23WeAllGrow\",\"promoted_content\":null,\"query\":\"%23WeAllGrow\",\"tweet_volume\":null}],\"as_of\":\"2016-03-03T22:44:30Z\",\"created_at\":\"2016-03-03T22:41:54Z\",\"locations\":[{\"name\":\"New York\",\"woeid\":2459115}]}]\n"
     ]
    }
   ],
   "source": [
    "from temboo.Library.Twitter.Trends import Place\n",
    "from temboo.core.session import TembooSession\n",
    "\n",
    "# Create a session with your Temboo account details\n",
    "session = TembooSession(\"andreachcode\", \"myFirstApp\", \"tiqt6HqSgt5SN9QsPIE9T6ATQkrNu2jo\")\n",
    "\n",
    "# Instantiate the Choreo\n",
    "placeChoreo = Place(session)\n",
    "\n",
    "# Get an InputSet object for the Choreo\n",
    "placeInputs = placeChoreo.new_input_set()\n",
    "\n",
    "# Set the Choreo inputs\n",
    "placeInputs.set_AccessToken(\"1149515354-E1ERXrHTnBohJdDhdVyGwVgNRLPKUZTrEW6WfaF\")\n",
    "placeInputs.set_ConsumerKey(\"WbWdJS6NKlW8gtYaxnreIKMig\")\n",
    "placeInputs.set_ConsumerSecret(\"R0T9unRcsDDv1Tot2aY6JqcXjWVpKrHxDtg5Z8RsYUZeVLsjun\")\n",
    "placeInputs.set_AccessTokenSecret(\"57gJuU81rAMYfmnU2ut8ssHKnAbUbL5j6DK5shR5a1dHL\")\n",
    "placeInputs.set_ID(\"2459115\")\n",
    "\n",
    "# Execute the Choreo\n",
    "placeResults = placeChoreo.execute_with_results(placeInputs)\n",
    "\n",
    "# Print the Choreo outputs - #prints trends nyc 03022016\n",
    "print(\"Response: \" + placeResults.get_Response())"
   ]
  },
  {
   "cell_type": "code",
   "execution_count": null,
   "metadata": {
    "collapsed": true
   },
   "outputs": [],
   "source": []
  }
 ],
 "metadata": {
  "kernelspec": {
   "display_name": "Python 3",
   "language": "python",
   "name": "python3"
  },
  "language_info": {
   "codemirror_mode": {
    "name": "ipython",
    "version": 3
   },
   "file_extension": ".py",
   "mimetype": "text/x-python",
   "name": "python",
   "nbconvert_exporter": "python",
   "pygments_lexer": "ipython3",
   "version": "3.5.1"
  }
 },
 "nbformat": 4,
 "nbformat_minor": 0
}
